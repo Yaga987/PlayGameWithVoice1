{
 "cells": [
  {
   "attachments": {},
   "cell_type": "markdown",
   "metadata": {},
   "source": [
    "Not completed yet."
   ]
  },
  {
   "cell_type": "code",
   "execution_count": null,
   "metadata": {},
   "outputs": [],
   "source": [
    "import speech_recognition as sr\n",
    "import chess\n",
    "import pygo\n",
    "\n",
    "# Initialize speech recognition\n",
    "r = sr.Recognizer()\n",
    "\n",
    "# Initialize game\n",
    "game_type = input(\"What game do you want to play (chess/go)? \")\n",
    "if game_type.lower() == \"chess\":\n",
    "    game = chess.Board()\n",
    "elif game_type.lower() == \"go\":\n",
    "    game = pygo.GameState(19)\n",
    "else:\n",
    "    print(\"Invalid game type\")\n",
    "    exit()\n",
    "\n",
    "# Loop until the game is over\n",
    "while not game.is_over():\n",
    "    # Get user's move as text input using speech recognition\n",
    "    with sr.Microphone() as source:\n",
    "        print(\"Say your move:\")\n",
    "        audio = r.listen(source)\n",
    "    try:\n",
    "        move_text = r.recognize_google(audio)\n",
    "        print(\"You said: \" + move_text)\n",
    "    except sr.UnknownValueError:\n",
    "        print(\"Sorry, I didn't catch that. Please try again.\")\n",
    "        continue\n",
    "    \n",
    "    # Convert move text to game move object\n",
    "    try:\n",
    "        if game_type.lower() == \"chess\":\n",
    "            move = chess.Move.from_uci(move_text)\n",
    "        elif game_type.lower() == \"go\":\n",
    "            move = pygo.Move.from_input_string(move_text)\n",
    "    except ValueError:\n",
    "        print(\"Invalid move\")\n",
    "        continue\n",
    "    \n",
    "    # Make the move on the game board\n",
    "    if move in game.legal_moves:\n",
    "        game.play_move(move)\n",
    "    else:\n",
    "        print(\"Illegal move\")\n",
    "        continue\n",
    "    \n",
    "    # Print the updated board\n",
    "    if game_type.lower() == \"chess\":\n",
    "        print(game)\n",
    "    elif game_type.lower() == \"go\":\n",
    "        print(game.get_board_string())\n",
    "    \n",
    "# Game is over\n",
    "if game_type.lower() == \"chess\":\n",
    "    print(\"Game over: \" + game.result())\n",
    "elif game_type.lower() == \"go\":\n",
    "    print(\"Game over\")"
   ]
  }
 ],
 "metadata": {
  "kernelspec": {
   "display_name": "Python 3",
   "language": "python",
   "name": "python3"
  },
  "language_info": {
   "codemirror_mode": {
    "name": "ipython",
    "version": 3
   },
   "file_extension": ".py",
   "mimetype": "text/x-python",
   "name": "python",
   "nbconvert_exporter": "python",
   "pygments_lexer": "ipython3",
   "version": "3.10.1"
  },
  "orig_nbformat": 4
 },
 "nbformat": 4,
 "nbformat_minor": 2
}
